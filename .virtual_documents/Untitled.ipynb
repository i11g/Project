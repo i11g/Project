get_ipython().run_line_magic("matplotlib", " inline")


import numpy as np
import pandas as pd
import random
import time
import os
from IPython.display import display
import matplotlib.pyplot as plt


























def solve_knapsack_dp(weights, values, capacity):
    
    n = len(weights)
    dp = np.zeros((n + 1, capacity+1), dtype=int)
    for i in range(1, n + 1):
        w_i, v_i = weights[i - 1], values[i - 1]
        for w in range(capacity + 1):
            if w_i <= w:
                dp[i, w] = max(v_i + dp[i-1, w-w_i], dp[i-1, w])
            else:
                dp[i, w] = dp[i-1, w] 

    selected = np.zeros(n, dtype=bool)
    w = capacity
    for i in range(n, 0, -1):
        if dp[i, w] != dp[i - 1, w]:
            selected[i - 1] = True
            w -= weights[i - 1]
    return dp[n, capacity], selected





def solve_knapsack_ga(weights, values, capacity, population_size=100, num_generations=500, 
                      mutation_rate=0.01, tournament_size=5, elitism=True): 
    
    n = len(weights)
    def fitness(ind):
        w = (weights * ind).sum()
        v = (values  * ind).sum()
        if w <= capacity:
            return v
        else:
            return 0
            
    def create_random():
        return np.random.randint(0, 2, size=n)
    
    def tournament(pop, fits):
        competitors = random.sample(range(len(pop)), tournament_size)
        return pop[max(competitors, key=lambda i:fits[i])].copy()
    
    def crossover(p1, p2):
        pt = random.randint(1, n-1)
        return np.concatenate([p1[:pt], p2[pt:]]), np.concatenate([p2[:pt], p1[pt:]])
    
    def mutate(ind):
        for i in range(n):
            if random.random() < mutation_rate:
                ind[i] ^= 1
        return ind
        
    pop = [create_random() for _ in range(population_size)]
    best_val, best_ind = 0, pop[0].copy()

    for gen in range(num_generations):
        fits = [fitness(ind) for ind in pop]
        idx = int(np.argmax(fits))
        if fits[idx] > best_val:
            best_val, best_ind = fits[idx], pop[idx].copy()
            new_pop = []
        if elitism:
            new_pop.append(best_ind.copy())
        
        while len(new_pop) < population_size:
            p1, p2 = tournament(pop, fits), tournament(pop, fits)
            c1, c2 = crossover(p1, p2)
            new_pop.extend([mutate(c1), mutate(c2)])
        pop = new_pop[:population_size]
    return best_val, best_ind





def generate_knapsack_instance(n, weight_range=(1,100), value_range=(1,100), capacity_factor=0.5):
    weights = np.random.randint(weight_range[0], weight_range[1]+1, size=n)
    values  = np.random.randint(value_range[0], value_range[1]+1, size=n)
    capacity = int(weights.sum() * capacity_factor)
    return weights, values, capacity

def run_dp(weights, values, capacity):
    t0 = time.perf_counter()
    value, selected = solve_knapsack_dp(weights, values, capacity)
    return value, selected, time.perf_counter() - t0

def run_ga(weights, values, capacity, params):
    t0 = time.perf_counter()
    value, selected = solve_knapsack_ga(
        weights, values, capacity,
        population_size=params['population_size'],
        num_generations=params['num_generations'],
        mutation_rate=params['mutation_rate'],
        tournament_size=params['tournament_size'],
        elitism=params['elitism']
    )
    return value, selected, time.perf_counter() - t0

# Benchmark function with quality measure
def benchmark_with_quality(ns, repeats=5, ga_params=None):
    # always start with an empty results list
    results = []
    if ga_params is None:
        ga_params = {
            'population_size': 100,
            'num_generations': 500,
            'mutation_rate': 0.01,
            'tournament_size': 5,
            'elitism': True
        }

    for n in ns:
        dp_times, ga_times = [], []
        dp_vals,  ga_vals  = [], []
        for _ in range(repeats):
            w, v, C = generate_knapsack_instance(n)
            val_dp, _, t_dp = run_dp(w, v, C)
            val_ga, _, t_ga = run_ga(w, v, C, ga_params)
            dp_times.append(t_dp)
            ga_times.append(t_ga)
            dp_vals.append(val_dp)
            ga_vals.append(val_ga)

        mean_dp_val = np.mean(dp_vals)
        mean_ga_val = np.mean(ga_vals)
        results.append({
            'n_items': n,
            'dp_time_mean': np.mean(dp_times),
            'ga_time_mean': np.mean(ga_times),
            'dp_value_mean': mean_dp_val,
            'ga_value_mean': mean_ga_val,
            'quality_ratio': mean_ga_val / mean_dp_val
        })
    return pd.DataFrame(results)

# Define and run
ns = [10, 15, 20, 30, 50, 70, 80, 100, 200, 300, 400, 500]
ga_params = {
    'population_size': 200,
    'num_generations': 500,
    'mutation_rate': 0.01,
    'tournament_size': 5,
    'elitism': True}
df_quality = benchmark_with_quality(ns, repeats=5, ga_params=ga_params)

# Display results
display(df_quality)





# Plot runtime comparison of DP vs GA vs number of items       
plt.figure(figsize=(8, 6))
plt.plot(df_quality['n_items'], df_quality['dp_time_mean'], marker='o', label='DP Time')
plt.plot(df_quality['n_items'], df_quality['ga_time_mean'], marker='s', label='GA Time')
plt.xlabel('Number of Items')
plt.ylabel('Mean Runtime (s)')
plt.title('Runtime Comparison: DP vs GA')
plt.legend()
plt.grid(True)
plt.tight_layout()
plt.savefig("results/runtime_comparison.png")
plt.show()
 
# Plot quality ratio vs number of items
plt.figure(figsize=(8, 6))
plt.plot(df_quality['n_items'], df_quality['quality_ratio'], marker='o')
plt.xlabel('Number of Items')
plt.ylabel('GA / DP Quality Ratio')
plt.title('Solution Quality Ratio vs Problem Size')
plt.grid(True)
plt.tight_layout()
plt.savefig("results/solution_quality.png")
plt.show()











def run_ga_sensitivity(n_items=200, repeats=5):
    default_ga_params = {
        'population_size': 200,
        'num_generations': 500,
        'mutation_rate': 0.01,
        'tournament_size': 5,
        'elitism': True
    }
    sweeps = {
        'population_size': [50, 100, 200, 300, 500, 1000, 2000],
        'mutation_rate': [0.001, 0.01, 0.05, 0.1],
        'num_generations': [50, 100, 200, 300, 500, 1000, 2000]
    }
    raw_results = []
    for _ in range(repeats):
        w, v, C = generate_knapsack_instance(n_items)
        dp_val, _, _ = run_dp(w, v, C)  # one DP run per instance

        for param, values in sweeps.items():
            for val in values:
                ga_params = default_ga_params.copy()
                ga_params[param] = val
                val_ga, _, t_ga = run_ga(w, v, C, ga_params)
                raw_results.append({
                    'parameter': param,
                    'value': val,
                    'dp_value': dp_val,
                    'ga_value': val_ga,
                    'ga_time': t_ga
                })

                df_raw = pd.DataFrame(raw_results)

    # Aggregate means
    df_agg = df_raw.groupby(['parameter','value']).agg(
        dp_value_mean=('dp_value','mean'),
        ga_value_mean=('ga_value','mean'),
        ga_time_mean=('ga_time','mean')
    ).reset_index()
    df_agg['quality_ratio'] = df_agg['ga_value_mean'] / df_agg['dp_value_mean']
    
    df_sense=('GA_Parameter_Sensitivity', df_agg)
    display(df_sense)
    return df_agg

# Run the sensitivity experiment
df_sensitivity = run_ga_sensitivity(n_items=200, repeats=5)





def plot_parameter_sensitivity(df_sensitivity):
    """
    Produce a 3×2 grid of plots showing:
      - left column: mean GA runtime vs. parameter value
      - right column: solution‐quality ratio vs. parameter value
    """   
    # 1) Split the DataFrame into three smaller DataFrames, one for each parameter type:
    pop_df  = df_sensitivity[df_sensitivity['parameter'] == 'population_size']
    mut_df  = df_sensitivity[df_sensitivity['parameter'] == 'mutation_rate']
    gens_df = df_sensitivity[df_sensitivity['parameter'] == 'num_generations']

    # 2) For each of those, compute the mean (aggregated) runtime and quality at each parameter value:
    pop_agg = (pop_df.groupby('value').agg({'ga_time_mean': 'mean', 'quality_ratio': 'mean'})
        .reset_index()
        .rename(columns={'value': 'parameter_value', 'ga_time_mean': 'mean_runtime',
                         'quality_ratio': 'mean_quality'})
    )

    mut_agg = (mut_df.groupby('value').agg({'ga_time_mean': 'mean','quality_ratio': 'mean'})
        .reset_index().rename(columns={'value': 'parameter_value', 'ga_time_mean': 'mean_runtime',
                         'quality_ratio': 'mean_quality'})
    )

    gens_agg = (gens_df.groupby('value').agg({'ga_time_mean': 'mean','quality_ratio': 'mean'
        }).reset_index().rename(columns={'value': 'parameter_value', 'ga_time_mean': 'mean_runtime',
                         'quality_ratio': 'mean_quality'})
    )
    
    # 3) Create a 3×2 subplot grid:
    fig, axes = plt.subplots(nrows=3, ncols=2, figsize=(12, 14))
    # axes is a 3×2 array of Axes objects: 
    #   axes[0,0] and axes[0,1] for population_size
    #   axes[1,0] and axes[1,1] for mutation_rate
    #   axes[2,0] and axes[2,1] for num_generations

    # --- Population Size (row 0) ---
    # Left: runtime vs. population_size
    axes[0, 0].plot(pop_agg['parameter_value'], pop_agg['mean_runtime'], marker='o', linestyle='-'
    )
    axes[0, 0].set_xlabel('Population Size')
    axes[0, 0].set_ylabel('Mean GA Runtime (s)')
    axes[0, 0].set_title('Effect of Population Size on Runtime')
    axes[0, 0].grid(True, linestyle='--', alpha=0.6)

    # Right: quality_ratio vs. population_size
    axes[0, 1].plot(pop_agg['parameter_value'], pop_agg['mean_quality'], marker='o', linestyle='-')
    axes[0, 1].set_xlabel('Population Size')
    axes[0, 1].set_ylabel('Mean Solution Quality Ratio (GA/DP)')
    axes[0, 1].set_title('Effect of Population Size on Solution Quality')
    axes[0, 1].grid(True, linestyle='--', alpha=0.6)
    
    # --- Mutation Rate (row 1) ---
    axes[1, 0].plot(mut_agg['parameter_value'], mut_agg['mean_runtime'], marker='o', linestyle='-')
    axes[1, 0].set_xlabel('Mutation Rate')
    axes[1, 0].set_ylabel('Mean GA Runtime (s)')
    axes[1, 0].set_title('Effect of Mutation Rate on Runtime')
    axes[1, 0].grid(True, linestyle='--', alpha=0.6)

    axes[1, 1].plot(mut_agg['parameter_value'],mut_agg['mean_quality'], marker='o', linestyle='-')
    axes[1, 1].set_xlabel('Mutation Rate')
    axes[1, 1].set_ylabel('Mean Solution Quality Ratio (GA/DP)')
    axes[1, 1].set_title('Effect of Mutation Rate on Solution Quality')
    axes[1, 1].grid(True, linestyle='--', alpha=0.6)

    # --- Number of Generations (row 2) ---
    axes[2, 0].plot(gens_agg['parameter_value'],gens_agg['mean_runtime'], marker='o', linestyle='-')
    axes[2, 0].set_xlabel('Number of Generations')
    axes[2, 0].set_ylabel('Mean GA Runtime (s)')
    axes[2, 0].set_title('Effect of Number of Generations on Runtime')
    axes[2, 0].grid(True, linestyle='--', alpha=0.6)

    axes[2, 1].plot(gens_agg['parameter_value'], gens_agg['mean_quality'], marker='o', linestyle='-' )
    axes[2, 1].set_xlabel('Number of Generations')
    axes[2, 1].set_ylabel('Mean Solution Quality Ratio (GA/DP)')
    axes[2, 1].set_title('Effect of Number of Generations on Solution Quality')
    axes[2, 1].grid(True, linestyle='--', alpha=0.6)

    # 4) Improve spacing and show/save the figure
    plt.tight_layout()
    plt.savefig('results/parameter_sensitivity.png', dpi=300)
    plt.show()


plot_parameter_sensitivity(df_sensitivity)











def solve_knapsack_ga_hy(weights, values, capacity, population_size=200, 
                         num_generations=500, mutation_rate=0.01, tournament_size=5, elitism=True, 
                         penalty_coef=1.0):
    
    n = len(weights)

    def fitness(ind):
        w = (weights * ind).sum()
        v = (values * ind).sum()
        if w <= capacity:
            return v
        else:
            return v - penalty_coef * (w - capacity)

    def greedy_init():
        ind = np.zeros(n, dtype=int)
        remaining = capacity
        for i in np.argsort(-values / weights):
            if weights[i] <= remaining:
                ind[i] = 1
                remaining -= weights[i]
        return ind

    def create_random():
        return np.random.randint(0, 2, size=n)

    def tournament(pop, fits):
        competitors= random.sample(range(len(pop)), tournament_size)  
        best = max(competitors, key=lambda i: fits[i])
        return pop[best].copy()

    def crossover(p1, p2):
        mask = np.random.rand(n) < 0.5
        return np.where(mask, p1, p2), np.where(mask, p2, p1)

    def mutate(ind):
        for i in range(n):
            if random.random() < mutation_rate:
                ind[i] ^= 1
        return ind

    # initialize population: one greedy, rest random
    pop = [greedy_init()] + [create_random() for _ in range(population_size - 1)]
    best_val = -1
    best_ind = None
    history = []

    for gen in range(num_generations):
        fits = [fitness(ind) for ind in pop]
        history.append((max(fits), np.mean(fits)))

        # update global best
        current_best = max(fits)
        if current_best > best_val:
            best_val = current_best
            best_ind = pop[int(np.argmax(fits))].copy()

        new_pop = []
        if elitism:
            new_pop.append(best_ind.copy())

        while len(new_pop) < population_size:
            p1 = tournament(pop, fits)
            p2 = tournament(pop, fits)
            c1, c2 = crossover(p1, p2)
            c1 = mutate(c1)
            c2 = mutate(c2)
            new_pop.extend([c1, c2])

        pop = new_pop[:population_size]

    return best_val, best_ind, history





def run_dp_hy(weights, values, capacity):
    t0 = time.perf_counter()
    value, selected = solve_knapsack_dp(weights, values, capacity)
    return value, selected, time.perf_counter() - t0

def run_ga_hy(weights, values, capacity, params):
    t0 = time.perf_counter()
    value, selected, _ = solve_knapsack_ga_hy(
        weights, values, capacity,
        population_size=params['population_size'],
        num_generations=params['num_generations'],
        mutation_rate=params['mutation_rate'],
        tournament_size=params['tournament_size'],
        elitism=params['elitism'],
        penalty_coef=params.get('penalty_coef', 1.0)
    )
    return value, selected, time.perf_counter() - t0

def benchmark_hybrid(ns, repeats=5, ga_params=None):
    if ga_params is None:
        ga_params = {
            'population_size': 100,
            'num_generations': 200,
            'mutation_rate': 0.01,
            'tournament_size': 5,
            'elitism': True,
            'penalty_coef': 1.0
        }
    results = []
    for n in ns:
        dp_times, ga_times = [], []
        dp_vals, ga_vals = [], []
         for _ in range(repeats):
            w, v, C = generate_knapsack_instance(n)
            val_dp, _, t_dp = run_dp(w, v, C)
            val_ga, _, t_ga = run_ga_hy(w, v, C, ga_params)
            dp_times.append(t_dp)
            ga_times.append(t_ga)
            dp_vals.append(val_dp)
            ga_vals.append(val_ga)
        results.append({
            'n_items': n,
            'dp_time_mean': np.mean(dp_times),
            'ga_time_mean': np.mean(ga_times),
            'dp_value_mean': np.mean(dp_vals),
            'ga_value_mean': np.mean(ga_vals),
            'quality_ratio': np.mean(ga_vals) / np.mean(dp_vals)
        })
    return pd.DataFrame(results)

if __name__ == "__main__":
    ns = [10, 20, 30, 50, 100, 200, 300, 400, 500]
    ga_params = {
        'population_size': 100,
        'num_generations': 200,
        'mutation_rate': 0.01,
        'tournament_size': 5,
        'elitism': True,
        'penalty_coef': 1.0
    }
    df_hybrid = benchmark_hybrid(ns, repeats=5, ga_params=ga_params)
    print(df_hybrid)





# Plot runtime comparison of DP vs GA vs number of items       
plt.figure(figsize=(8, 6))
plt.plot(df_hybrid['n_items'], df_hybrid['dp_time_mean'], marker='o', label='DP Time')
plt.plot(df_hybrid['n_items'], df_hybrid['ga_time_mean'], marker='s', label='GA Time')
plt.xlabel('Number of Items')
plt.ylabel('Mean Runtime (s)')
plt.title('Runtime Comparison: DP vs GA')
plt.legend()
plt.grid(True)
plt.tight_layout()
plt.savefig("results/runtime_comparison_hy.png")
plt.show()
 
# Plot quality ratio vs number of items
plt.figure(figsize=(8, 6))
plt.plot(df_hybrid['n_items'], df_hybrid['quality_ratio'], marker='o')
plt.xlabel('Number of Items')
plt.ylabel('GA / DP Quality Ratio')
plt.title('Solution Quality Ratio vs Problem Size')
plt.grid(True)
plt.tight_layout()
plt.savefig("results/solution_quality_hy.png")
plt.show()















